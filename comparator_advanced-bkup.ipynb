{
 "cells": [
  {
   "cell_type": "code",
   "execution_count": 1,
   "metadata": {},
   "outputs": [
    {
     "name": "stdout",
     "output_type": "stream",
     "text": [
      "CPython 3.6.7\n",
      "IPython 7.4.0\n",
      "\n",
      "numpy 1.16.2\n",
      "scipy 1.2.1\n",
      "pandas 0.24.2\n",
      "matplotlib 3.0.3\n",
      "sklearn 0.20.3\n",
      "\n",
      "compiler   : GCC 8.2.0\n",
      "system     : Linux\n",
      "release    : 4.9.93-boot2docker\n",
      "machine    : x86_64\n",
      "processor  : x86_64\n",
      "CPU cores  : 2\n",
      "interpreter: 64bit\n",
      "Git hash   :\n"
     ]
    }
   ],
   "source": [
    "# pip install watermark\n",
    "%load_ext watermark\n",
    "%watermark -v -m -p numpy,scipy,pandas,matplotlib,sklearn -g \n",
    "#,statsmodels"
   ]
  },
  {
   "cell_type": "code",
   "execution_count": 2,
   "metadata": {},
   "outputs": [],
   "source": [
    "from __future__ import division, print_function\n",
    "import warnings\n",
    "warnings.filterwarnings('ignore')\n",
    "import os\n",
    "import numpy as np\n",
    "import pandas as pd\n",
    "import math\n",
    "import datetime\n",
    "import re"
   ]
  },
  {
   "cell_type": "code",
   "execution_count": 168,
   "metadata": {},
   "outputs": [
    {
     "name": "stdout",
     "output_type": "stream",
     "text": [
      "===================================================================================\r\n",
      "Comparator SimadynD <=> TDC software version: v.10 \r\n",
      "Author: Anton Tushev \r\n",
      "Comparation result made from /notebooks/pinda/data/test StrucG folder \r\n",
      "Date and time: 2019-05-14 18:05:45.241803 \r\n",
      "Use filters: \r\n",
      "XXXXXXXX - critical points \r\n",
      "!!!!!!!! - not critical errors \r\n",
      "False - difference in programs\r\n",
      "True - no difference in programs \r\n",
      "=====================\r\n",
      "Curren filters:\r\n",
      "SKIP_EQUAL:\t\tTrue\r\n",
      "SKIP_BLOCK_NEXST:\tTrue\r\n",
      "SKIP_SIGNAL_NFND:\tTrue\r\n",
      "SKIP_TYPE_STR:\t\tTrue\r\n",
      "SKIP_CHART_NFND:\tTrue\r\n",
      "===================================================================================\r\n",
      "\n"
     ]
    }
   ],
   "source": [
    "COMPARATOR_AUTHOR = \"Anton Tushev\" \n",
    "COMPARATOR_VERSION = \"v.10\"\n",
    "PATH_TO_DATA = '/notebooks/pinda/data'\n",
    "#PATH_TO_STRUCG = '/notebooks/pinda/data/alcanc26_03_2019'\n",
    "PATH_TO_STRUCG = '/notebooks/pinda/data/test'\n",
    "FILE_NAME_DATA1 = 'TX04.csv'\n",
    "#FILE_NAME_DATA1 = 'test.csv'\n",
    "IGNORE_CHART = ['@SIMD']\n",
    "#SD_RACK_NAMES = ['tx01','tx02','tx03','tx04']\n",
    "SD_RACK_NAMES = ['tx04']\n",
    "SKIP_EQUAL = True\n",
    "SKIP_BLOCK_NEXST = True\n",
    "SKIP_SIGNAL_NFND = True\n",
    "SKIP_TYPE_STR = True\n",
    "SKIP_CHART_NFND = True\n",
    "COMPARATOR_README = \"===================================================================================\\r\\n\\\n",
    "Comparator SimadynD <=> TDC software version: %s \\r\\nAuthor: %s \\r\\nComparation result made from %s \\\n",
    "StrucG folder \\r\\nDate and time: %s \\r\\nUse filters: \\r\\nXXXXXXXX - critical points \\\n",
    "\\r\\n!!!!!!!! - not critical errors \\r\\nFalse - difference in programs\\r\\nTrue - no difference in programs \\\n",
    "\\r\\n=====================\\r\\nCurren filters:\\r\\nSKIP_EQUAL:\\t\\t%s\\r\\nSKIP_BLOCK_NEXST:\\t%s\\r\\nSKIP_SIGNAL_NFND:\\t%s\\r\\n\\\n",
    "SKIP_TYPE_STR:\\t\\t%s\\r\\nSKIP_CHART_NFND:\\t%s\\r\\n\\\n",
    "===================================================================================\\r\\n\\\n",
    "\"%(COMPARATOR_VERSION,COMPARATOR_AUTHOR,PATH_TO_STRUCG,datetime.datetime.now(),SKIP_EQUAL,SKIP_BLOCK_NEXST, \\\n",
    "   SKIP_SIGNAL_NFND,SKIP_TYPE_STR,SKIP_CHART_NFND)\n",
    "print(COMPARATOR_README)"
   ]
  },
  {
   "cell_type": "code",
   "execution_count": 166,
   "metadata": {},
   "outputs": [
    {
     "name": "stdout",
     "output_type": "stream",
     "text": [
      "Data types  ['BOOL' 'REAL' 'SDTIME' 'WORD' 'INT' 'DINT' 'GLOBAL' 'STRING' 'DWORD'\n",
      " 'BYTE']\n",
      "Charts  ['ENCC_1' 'ENBRU1' 'ENBRI1' 'ENBEA1' 'BGT__1' '@SEND1' 'ENGAU1' 'ENGN11'\n",
      " 'ENMB_1' 'ENOSW1' 'ENGUA1' 'ENHDR1' 'ENIHW1' 'ENINS1' 'ENEXT1' 'ENENT1'\n",
      " 'ENSR_1' 'ENSPH1' 'ENSCD1' 'ENPIN1' 'ENPEL1' 'ENPAR1' 'ENISW1' 'ENLAP1'\n",
      " 'ENMA_1' 'ENMAN1' 'ENOHW1' 'ENSTR1' 'ENTEM1' 'ENTUR1' 'MESY_1' 'MONIM1'\n",
      " 'MONIW1' 'SERV_1' 'VISU_1' 'WPS__1' 'ENISW_MSU' 'ENDIA1' 'ENCRA1'\n",
      " 'ENCPT1' 'ENCPS1' 'ENCPP1' 'ENCPM1' 'ENCPH1' 'ENCPC1' 'ENCPA1' 'ENCOO1'\n",
      " 'ENMG_1' 'ENMC_1' 'ENMD_1' 'ENME_1' 'ENMF_1' '@SEND2' 'EXBAN2' 'EXBBH2'\n",
      " 'EXBBY2' 'EXBEA2' 'EXBW_2' 'EXBWA2' 'EXBWT2' 'EXCC_2' 'EXCRA2' 'EXCRM2'\n",
      " 'EXCUT2' 'EXDEF2' 'EXDIA2' 'EXFEL2' 'EXGAU2' 'EXGN12' 'EXGN22' 'EXIHW2'\n",
      " 'EXIR_2' 'EXIRP2' 'EXISW2' 'EXKNA2' 'EXLAP2' 'EXMAN2' 'EXMLR2' 'EXMLT2'\n",
      " 'EXOHW2' 'EXOSW2' 'EXPAR2' 'EXPUS2' 'EXREJ2' 'EXREL2' 'EXSC_2' 'EXSCA2'\n",
      " 'EXSCM2' 'EXSH12' 'EXSH22' 'EXSHJ2' 'EXSHT2' 'EXSML2' 'EXSR_2' 'EXSRC2'\n",
      " 'EXSRE2' 'EXSSC2' 'EXSSR2' 'EXSTR2' 'EXTB_2' 'EXTB12' 'EXTB22' 'EXTTB2'\n",
      " 'EXTUC2' 'EXWIP2' 'MESY_2' 'MONIM2' 'MONIW2' 'SERV_2' 'VISU_2' 'WPS__2']\n"
     ]
    }
   ],
   "source": [
    "#Load TDC data\n",
    "data_a1 = pd.read_csv(os.path.join(PATH_TO_DATA,FILE_NAME_DATA1),keep_default_na=False,na_values=[''], encoding=\"cp1251\",sep=';',header=None)\n",
    "data_a1 = data_a1[[0,1,3,5,11,28,29]]\n",
    "data_a1.columns = ['rack_cpu','chart','block','signal','value','type','out']\n",
    "data_a1 = pd.concat([data_a1, data_a1['rack_cpu'].str.split(\"\\\\\",expand = True)[[0,1]]], axis=1) \n",
    "data_a1.columns = ['rack_cpu','chart','block','signal','value','type','out','rack','cpu']\n",
    "data_a1[\"out\"]= data_a1[\"out\"].replace((\"IN\",\"OUT\"),(0,1)).astype('bool') \n",
    "data_a1 = data_a1[~data_a1['chart'].isin(IGNORE_CHART)]\n",
    "data_a1[\"block\"] = data_a1[\"block\"].astype(str)\n",
    "print(\"Data types \",data_a1['type'].unique())\n",
    "print(\"Charts \",data_a1['chart'].unique())"
   ]
  },
  {
   "cell_type": "code",
   "execution_count": 170,
   "metadata": {
    "scrolled": true
   },
   "outputs": [
    {
     "data": {
      "text/plain": [
       "{'tx04': {'engau1': '/notebooks/pinda/data/test/tx04/engau1.cfp'}}"
      ]
     },
     "execution_count": 170,
     "metadata": {},
     "output_type": "execute_result"
    }
   ],
   "source": [
    "#Generate Simadyn chart structure\n",
    "def sd_get_chart_list(PATH_TO_STRUCG=PATH_TO_STRUCG,SD_RACK_NAMES=SD_RACK_NAMES):\n",
    "    #filter chart files\n",
    "    n = re.compile(\"^(((?!old).)*).((cfp)|(ofp))$\")\n",
    "    file_list=[] \n",
    "    file_list = {rack_name:[item for item in os.listdir(os.path.join(PATH_TO_STRUCG,rack_name)) \\\n",
    "        # chart file names filter conditions\n",
    "        if os.path.isfile(os.path.join(PATH_TO_STRUCG,rack_name, item)) and (n.search(item)) and len(item)<11 \\\n",
    "        ] for rack_name in SD_RACK_NAMES}\n",
    "    file_list_filtered = dict(file_list)\n",
    "    for i in file_list:\n",
    "        for k in file_list[i]:\n",
    "            chart_name = k.split('.')[0]\n",
    "            if \"%s.cfp\"%chart_name in file_list[i]:\n",
    "                try:\n",
    "                    file_list_filtered[i].remove(\"%s.ofp\"%chart_name)\n",
    "                except ValueError:\n",
    "                    pass  # do nothing\n",
    "    out_dict = dict()\n",
    "    for i in file_list_filtered:\n",
    "        out_dict[i] = dict()\n",
    "        for k in file_list_filtered[i]:\n",
    "            out_dict[i][k.split('.')[0]]=os.path.join(PATH_TO_STRUCG,i,k)\n",
    "    if out_dict:\n",
    "        return out_dict\n",
    "    else:\n",
    "        return -1\n",
    "\n",
    "sd_chart_list = sd_get_chart_list() \n",
    "\n",
    "##output => #sd_chart_list {\"tx03\":{'chrt_name':file_addrs}}"
   ]
  },
  {
   "cell_type": "code",
   "execution_count": 288,
   "metadata": {},
   "outputs": [
    {
     "ename": "AttributeError",
     "evalue": "'NoneType' object has no attribute 'group'",
     "output_type": "error",
     "traceback": [
      "\u001b[0;31m---------------------------------------------------------------------------\u001b[0m",
      "\u001b[0;31mAttributeError\u001b[0m                            Traceback (most recent call last)",
      "\u001b[0;32m<ipython-input-288-cc6e7bfc9200>\u001b[0m in \u001b[0;36m<module>\u001b[0;34m\u001b[0m\n\u001b[1;32m     10\u001b[0m \u001b[0mm\u001b[0m \u001b[0;34m=\u001b[0m \u001b[0mre\u001b[0m\u001b[0;34m.\u001b[0m\u001b[0mcompile\u001b[0m\u001b[0;34m(\u001b[0m\u001b[0;34mr\"^\\s*\\d+\\s+(\\w+)\\s+(\\w+)\\s+([<>])\\s+(@TYP=(..),)*([^@\\\"',&]+)([,\\\"'&]|$)\"\u001b[0m\u001b[0;34m,\u001b[0m \u001b[0;34m)\u001b[0m\u001b[0;34m\u001b[0m\u001b[0;34m\u001b[0m\u001b[0m\n\u001b[1;32m     11\u001b[0m \u001b[0mn\u001b[0m \u001b[0;34m=\u001b[0m \u001b[0mm\u001b[0m\u001b[0;34m.\u001b[0m\u001b[0msearch\u001b[0m\u001b[0;34m(\u001b[0m\u001b[0mtest_txt\u001b[0m\u001b[0;34m)\u001b[0m\u001b[0;34m\u001b[0m\u001b[0;34m\u001b[0m\u001b[0m\n\u001b[0;32m---> 12\u001b[0;31m \u001b[0mprint\u001b[0m\u001b[0;34m(\u001b[0m\u001b[0mn\u001b[0m\u001b[0;34m.\u001b[0m\u001b[0mgroup\u001b[0m\u001b[0;34m(\u001b[0m\u001b[0;36m1\u001b[0m\u001b[0;34m)\u001b[0m\u001b[0;34m,\u001b[0m\u001b[0mn\u001b[0m\u001b[0;34m.\u001b[0m\u001b[0mgroup\u001b[0m\u001b[0;34m(\u001b[0m\u001b[0;36m2\u001b[0m\u001b[0;34m)\u001b[0m\u001b[0;34m,\u001b[0m\u001b[0mn\u001b[0m\u001b[0;34m.\u001b[0m\u001b[0mgroup\u001b[0m\u001b[0;34m(\u001b[0m\u001b[0;36m3\u001b[0m\u001b[0;34m)\u001b[0m\u001b[0;34m,\u001b[0m\u001b[0mn\u001b[0m\u001b[0;34m.\u001b[0m\u001b[0mgroup\u001b[0m\u001b[0;34m(\u001b[0m\u001b[0;36m5\u001b[0m\u001b[0;34m)\u001b[0m\u001b[0;34m,\u001b[0m\u001b[0mn\u001b[0m\u001b[0;34m.\u001b[0m\u001b[0mgroup\u001b[0m\u001b[0;34m(\u001b[0m\u001b[0;36m6\u001b[0m\u001b[0;34m)\u001b[0m\u001b[0;34m)\u001b[0m\u001b[0;34m\u001b[0m\u001b[0;34m\u001b[0m\u001b[0m\n\u001b[0m",
      "\u001b[0;31mAttributeError\u001b[0m: 'NoneType' object has no attribute 'group'"
     ]
    }
   ],
   "source": [
    "#n = re.search(\"^(((?!old).)*).((cfp)|(ofp))$\", 'pray1___20131208.cfp')\n",
    "test_txt = \" 325\tI1  B1 < VIHW09.Q15&\"\n",
    "test_txt = '  81\tIS  V2 < $VISW17'\n",
    "#test_txt = \" 163\tQ1  B1 > ,'Man__CPS'            \\\"MAINTENANCE COIL PREP STATION\\\"\"\n",
    "test_txt = ' 115\tI1  B1 < VIHW17.Q2&'\n",
    "test_txt = ' 519\tX1  N2 < @TYP=V2,0HFFFF'\n",
    "test_txt = ' 520\tX2  N2 < @TYP=V2,LB2.QS&'\n",
    "test_txt = ' 527\tQS  V2 > $VGAU02                \"Diagnose 2nd direction\"'\n",
    "test_txt = ' 528\tQ   B1 > '\n",
    "m = re.compile(r\"^\\s*\\d+\\s+(\\w+)\\s+(\\w+)\\s+([<>])\\s+(@TYP=(..),)*([^@\\\"',&]+)([,\\\"'&]|$)\", )\n",
    "n = m.search(test_txt)\n",
    "print(n.group(1),n.group(2),n.group(3),n.group(5),n.group(6))\n"
   ]
  },
  {
   "cell_type": "code",
   "execution_count": 255,
   "metadata": {},
   "outputs": [],
   "source": [
    "\n",
    "def sd_open_chart(chart_addr):\n",
    "    try:\n",
    "        with open(chart_addr) as f:\n",
    "            lines = [line.rstrip('\\n') for line in f]\n",
    "    except EnvironmentError: # parent of IOError, OSError *and* WindowsError where available\n",
    "        #print('ERROR File not exists!')\n",
    "        return -1\n",
    "    return lines\n",
    "\n",
    "def sd_get_chart_map(inp_line):\n",
    "    #b = re.compile(r\"\\d+ ? +: [a-zA-Z0-9_.]+\\s*,\\s*POS=\")\n",
    "    #b = re.compile(r\".*:.*POS=\")\n",
    "    b = re.compile(r\"^\\s*\\d+ ?([a-zA-Z0-9_]+) +: [a-zA-Z0-9_.]+\\s*,\\s*POS=\")\n",
    "    el = re.compile(r'^ *\\d+\\s+[+]')\n",
    "    block_list = []\n",
    "    mark_bloc = False\n",
    "    out_dict = dict()\n",
    "    line_counter = 0\n",
    "    for k in inp_line:\n",
    "        b_s = b.search(k)\n",
    "        if b_s :\n",
    "            mark_bloc = True\n",
    "            curr_block_name = b_s.group(1)\n",
    "            block_list.append(curr_block_name)\n",
    "            mark_bloc_line_beg = line_counter\n",
    "        elif el.search(k):\n",
    "            if mark_bloc:\n",
    "                mark_bloc = False\n",
    "                out_dict[curr_block_name] = [mark_bloc_line_beg,line_counter]\n",
    "        line_counter = line_counter+1        \n",
    "    print(len(block_list))\n",
    "    if(out_dict):\n",
    "        return out_dict\n",
    "    else:\n",
    "        return -1\n",
    "\n",
    "def sd_get_str_type(line):\n",
    "    s_com = re.compile(r\"^\\s*\\d+\\s+(\\w+)\\s+(\\w+)\\s+([<>])\\s+(@TYP=..,)*([^@\\\"',&]+)([,\\\"'&]|$)\")\n",
    "    s_str = re.compile(r'(([<-] ?)|(@TYP=..),)([^@\"\\',&]+)([,\"\\'&]|$)')\n",
    "    s_string = re.compile(r'(([-])|(@TYP=..),) +(\\'.+\\')([ ,\"\\&]|$)')\n",
    "    el = re.compile(r'^ *\\d+\\s+[+]')\n",
    "    if \n",
    "\n",
    "# 325\tI1  B1 < VIHW09.Q15&\n",
    "#   &             ,'StopEntr'            \"ENTRY AREA STOP MOVEMENT (MPB)\"\n",
    "# 326\tI2  B1 < 1\n",
    "# 327\tI3  B1 < 1\n",
    "    \n",
    "def sd_get_signals(lines):\n",
    "    for l in lines:\n",
    "        get_str_type(l)\n",
    "    \n",
    "    "
   ]
  },
  {
   "cell_type": "code",
   "execution_count": 254,
   "metadata": {
    "scrolled": false
   },
   "outputs": [
    {
     "name": "stdout",
     "output_type": "stream",
     "text": [
      "VPAR01 [23, 43]\n",
      "VIHW09 [46, 73]\n",
      "VIHW15 [74, 109]\n",
      "TESTE [112, 137]\n",
      "LONOFF [138, 149]\n",
      "GAUIN [150, 157]\n",
      "GAUOUT [158, 166]\n",
      "VIHW17 [169, 199]\n",
      "VCOO03 [200, 221]\n",
      "VISW12 [224, 246]\n",
      "VBRI03 [247, 270]\n",
      "VISW13 [271, 294]\n",
      "VISW16 [297, 324]\n",
      "EB110 [327, 335]\n",
      "LB1013 [336, 343]\n",
      "LB1014 [344, 351]\n",
      "LB1 [354, 384]\n",
      "LB2 [385, 415]\n",
      "LS201 [418, 427]\n",
      "LS202 [428, 437]\n",
      "KA1014 [440, 449]\n",
      "KA1017 [450, 457]\n",
      "KA1015 [458, 467]\n",
      "KA1018 [468, 475]\n",
      "ON1020 [478, 486]\n",
      "ON1029 [487, 497]\n",
      "ON1022 [498, 506]\n",
      "ON1021 [507, 515]\n",
      "VDFVV [516, 523]\n",
      "VFVFV [524, 530]\n",
      "ON1030 [531, 541]\n",
      "ON1023 [542, 549]\n",
      "KN0011 [553, 563]\n",
      "SP0011 [564, 572]\n",
      "ETR011 [573, 581]\n",
      "TP1010 [584, 592]\n",
      "TP1012 [593, 601]\n",
      "STG400 [607, 665]\n",
      "STGO2 [668, 677]\n",
      "STGO1 [678, 688]\n",
      "STGO4 [689, 698]\n",
      "STGO5 [699, 709]\n",
      "STG632 [712, 721]\n",
      "STG641 [722, 729]\n",
      "STG611 [730, 739]\n",
      "STG624 [740, 746]\n",
      "STG633 [749, 758]\n",
      "STG672 [759, 766]\n",
      "STG681 [767, 776]\n",
      "STG691 [777, 783]\n",
      "VGAU03 [786, 822]\n"
     ]
    }
   ],
   "source": [
    "\n",
    "for i in sd_chart_list:\n",
    "    for (k,v) in sd_chart_list[i].items():\n",
    "        chart_lines = sd_open_chart(v)\n",
    "        chart_mapping = sd_get_chart_map(chart_lines)\n",
    "        for block_map in chart_mapping:\n",
    "            print(block_map,chart_mapping[block_map])\n",
    "            sd_get_signals()\n"
   ]
  }
 ],
 "metadata": {
  "kernelspec": {
   "display_name": "Python 3",
   "language": "python",
   "name": "python3"
  },
  "language_info": {
   "codemirror_mode": {
    "name": "ipython",
    "version": 3
   },
   "file_extension": ".py",
   "mimetype": "text/x-python",
   "name": "python",
   "nbconvert_exporter": "python",
   "pygments_lexer": "ipython3",
   "version": "3.6.7"
  }
 },
 "nbformat": 4,
 "nbformat_minor": 2
}
