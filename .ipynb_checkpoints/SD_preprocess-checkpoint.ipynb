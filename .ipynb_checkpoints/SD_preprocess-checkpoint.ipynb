{
 "cells": [
  {
   "cell_type": "code",
   "execution_count": 1,
   "metadata": {},
   "outputs": [
    {
     "name": "stdout",
     "output_type": "stream",
     "text": [
      "CPython 3.6.7\n",
      "IPython 7.4.0\n",
      "\n",
      "numpy 1.16.2\n",
      "scipy 1.2.1\n",
      "pandas 0.24.2\n",
      "matplotlib 3.0.3\n",
      "sklearn 0.20.3\n",
      "\n",
      "compiler   : GCC 8.2.0\n",
      "system     : Linux\n",
      "release    : 4.19.76-linuxkit\n",
      "machine    : x86_64\n",
      "processor  : x86_64\n",
      "CPU cores  : 2\n",
      "interpreter: 64bit\n",
      "Git hash   : d2c3c5c4f5f432bb363cda028b1ff6ebf5d87e2a\n"
     ]
    }
   ],
   "source": [
    "###########LIBRARY CELL###########\n",
    "%load_ext watermark\n",
    "%watermark -v -m -p numpy,scipy,pandas,matplotlib,sklearn -g "
   ]
  },
  {
   "cell_type": "code",
   "execution_count": 2,
   "metadata": {},
   "outputs": [],
   "source": [
    "###########LIBRARY CELL###########\n",
    "from __future__ import division, print_function\n",
    "import warnings\n",
    "warnings.filterwarnings('ignore')\n",
    "import os\n",
    "import numpy as np\n",
    "import pandas as pd\n",
    "import math\n",
    "import datetime\n",
    "import re\n",
    "import sys\n",
    "from shutil import copyfile"
   ]
  },
  {
   "cell_type": "code",
   "execution_count": 3,
   "metadata": {},
   "outputs": [],
   "source": [
    "###########LIBRARY CELL###########\n",
    "#########CONFIGURATION################\n",
    "PATH_TO_INPUT_DATA= '/notebooks/pinda/data/eko/200117'\n",
    "PATH_TO_OUTPUT_DATA = '/notebooks/pinda/data/eko/200117_after_tool'\n",
    "SD_RACK_NAMES = [\"sx01\",\"sx04\",\"vx21\",\"sx21\",\"sx22\",\"sx23\",\"sx24\",\"sx25\"]\n",
    "IGNORE_CHART = ['@SIMD']"
   ]
  },
  {
   "cell_type": "code",
   "execution_count": 4,
   "metadata": {
    "scrolled": true
   },
   "outputs": [
    {
     "name": "stdout",
     "output_type": "stream",
     "text": [
      "['sx01', 'sx04', 'vx21', 'sx21', 'sx22', 'sx23', 'sx24', 'sx25']\n"
     ]
    }
   ],
   "source": [
    "###########LIBRARY CELL###########\n",
    "def increase_sd_line_counter(line, counter):\n",
    "    num_txt = line[:4]\n",
    "    con_check = re.compile(r'^(\\s*\\d+())$')\n",
    "    if(con_check.search(num_txt)):\n",
    "        line = '{:4d}'.format(int(num_txt)+counter) + line[4:]\n",
    "    return line\n",
    "\n",
    "def set_sd_counter_in_line(line, counter):\n",
    "    num_txt = line[:4]\n",
    "    con_check = re.compile(r'^(\\s*\\d+())$')\n",
    "    changed = False\n",
    "    if(con_check.search(num_txt)):\n",
    "        line = '{:4d}'.format(counter) + line[4:]\n",
    "        changed = True\n",
    "    return line, changed\n",
    "\n",
    "def insert_quotes_in_file(file_path):\n",
    "    try:\n",
    "        with open(file_path) as f:\n",
    "            lines = [line.rstrip('\\n') for line in f]\n",
    "    except EnvironmentError: \n",
    "        raise EnvironmentError('File cannot be opened')\n",
    "\n",
    "    first_check = False\n",
    "    second_check = False\n",
    "    result_lines = []\n",
    "    add_number = 0\n",
    "    line_number = 0\n",
    "    \n",
    "    find_num = re.compile(r'^\\s*\\d+\\s+')\n",
    "    first_check_re = re.compile(r'^\\s*\\d+\\s*CM,POS=\\d+$')\n",
    "    second_check_re = re.compile(r'^\\s*\\d+\\s+(?![\"\\s])+') \n",
    "    \n",
    "    for line in lines:\n",
    "        if line_number == 0:\n",
    "            if find_num.search(line):\n",
    "                line_number = int(line[:4])\n",
    "        \n",
    "        if first_check:\n",
    "            if not second_check_re.search(line):\n",
    "                result_lines.append('{:4d}'.format(line_number) + \" \\\"\\\"\")\n",
    "                line_number = line_number + 1\n",
    "                \n",
    "        first_check = first_check_re.search(line)\n",
    "        result_line, changed  = set_sd_counter_in_line(line,line_number)\n",
    "        \n",
    "        if changed:\n",
    "            line_number = line_number + 1\n",
    "\n",
    "        result_lines.append(result_line)\n",
    "\n",
    "    return result_lines\n",
    "\n",
    "def process_sd_folder(PATH_TO_INPUT_DATA=PATH_TO_INPUT_DATA,PATH_TO_OUTPUT_DATA=PATH_TO_OUTPUT_DATA,SD_RACK_NAMES=SD_RACK_NAMES):\n",
    "    #filter files\n",
    "    n = re.compile(\"^(((?!old).)*).((cfp)|(ufp)|(ofp))$\")\n",
    "    rack_names = SD_RACK_NAMES if SD_RACK_NAMES else os.listdir(PATH_TO_INPUT_DATA)\n",
    "    print(rack_names)\n",
    "    for rack_name in rack_names:\n",
    "        for file in os.listdir(os.path.join(PATH_TO_INPUT_DATA,rack_name)):\n",
    "            \n",
    "            source_path = os.path.join(PATH_TO_INPUT_DATA,rack_name, file)\n",
    "            destination_path = os.path.join(PATH_TO_OUTPUT_DATA,rack_name,file)\n",
    "            \n",
    "            if not os.path.isfile(source_path):\n",
    "                continue\n",
    "\n",
    "            os.makedirs(os.path.join(PATH_TO_OUTPUT_DATA,rack_name), exist_ok=True)\n",
    "            \n",
    "            if(n.search(file)):\n",
    "                processed_file_lines = insert_quotes_in_file(source_path)\n",
    "                with open(destination_path, 'w') as f:\n",
    "                    f.write(\"\\r\\n\".join(processed_file_lines))\n",
    "            else:\n",
    "                copyfile(source_path, destination_path)\n",
    "                pass\n",
    "        \n",
    "process_sd_folder(PATH_TO_INPUT_DATA)\n",
    "\n"
   ]
  },
  {
   "cell_type": "code",
   "execution_count": 302,
   "metadata": {},
   "outputs": [
    {
     "name": "stdout",
     "output_type": "stream",
     "text": [
      "Add\n"
     ]
    }
   ],
   "source": [
    "###############FOR DEBUG###################\n",
    "line = \" 484 \\\"Anwahl UAW im Konstantdruck-Modus\\\"\"\n",
    "find_num = re.compile(r'^\\s*\\d+\\s+')\n",
    "\n",
    "if(find_num.search(line)):\n",
    "    print(\"Add\")\n",
    "else:\n",
    "    print(\"Not add\") "
   ]
  },
  {
   "cell_type": "code",
   "execution_count": null,
   "metadata": {},
   "outputs": [],
   "source": []
  },
  {
   "cell_type": "code",
   "execution_count": null,
   "metadata": {},
   "outputs": [],
   "source": []
  }
 ],
 "metadata": {
  "kernelspec": {
   "display_name": "Python 3",
   "language": "python",
   "name": "python3"
  },
  "language_info": {
   "codemirror_mode": {
    "name": "ipython",
    "version": 3
   },
   "file_extension": ".py",
   "mimetype": "text/x-python",
   "name": "python",
   "nbconvert_exporter": "python",
   "pygments_lexer": "ipython3",
   "version": "3.6.7"
  }
 },
 "nbformat": 4,
 "nbformat_minor": 2
}
